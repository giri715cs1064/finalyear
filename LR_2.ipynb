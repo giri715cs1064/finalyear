{
 "cells": [
  {
   "cell_type": "code",
   "execution_count": 1,
   "metadata": {},
   "outputs": [],
   "source": [
    "import numpy as np\n",
    "import pandas as pd\n",
    "import matplotlib.pyplot as plt\n",
    "from sklearn.datasets import load_iris"
   ]
  },
  {
   "cell_type": "code",
   "execution_count": 2,
   "metadata": {},
   "outputs": [],
   "source": [
    "iris = load_iris()"
   ]
  },
  {
   "cell_type": "code",
   "execution_count": 4,
   "metadata": {},
   "outputs": [],
   "source": [
    "x = iris.data\n",
    "y = iris.target"
   ]
  },
  {
   "cell_type": "code",
   "execution_count": 5,
   "metadata": {},
   "outputs": [],
   "source": [
    "df = pd.DataFrame(x,columns = ['sepal_length(cm)',\n",
    "                              'sepal_width(cm)',\n",
    "                              'petal_length(cm)',\n",
    "                              'petal_width(cm)'])"
   ]
  },
  {
   "cell_type": "code",
   "execution_count": 6,
   "metadata": {},
   "outputs": [],
   "source": [
    "df['species_id'] = y"
   ]
  },
  {
   "cell_type": "code",
   "execution_count": 9,
   "metadata": {},
   "outputs": [
    {
     "data": {
      "text/html": [
       "<div>\n",
       "<style scoped>\n",
       "    .dataframe tbody tr th:only-of-type {\n",
       "        vertical-align: middle;\n",
       "    }\n",
       "\n",
       "    .dataframe tbody tr th {\n",
       "        vertical-align: top;\n",
       "    }\n",
       "\n",
       "    .dataframe thead th {\n",
       "        text-align: right;\n",
       "    }\n",
       "</style>\n",
       "<table border=\"1\" class=\"dataframe\">\n",
       "  <thead>\n",
       "    <tr style=\"text-align: right;\">\n",
       "      <th></th>\n",
       "      <th>sepal_length(cm)</th>\n",
       "      <th>sepal_width(cm)</th>\n",
       "      <th>petal_length(cm)</th>\n",
       "      <th>petal_width(cm)</th>\n",
       "      <th>species_id</th>\n",
       "    </tr>\n",
       "  </thead>\n",
       "  <tbody>\n",
       "    <tr>\n",
       "      <th>0</th>\n",
       "      <td>5.1</td>\n",
       "      <td>3.5</td>\n",
       "      <td>1.4</td>\n",
       "      <td>0.2</td>\n",
       "      <td>0</td>\n",
       "    </tr>\n",
       "    <tr>\n",
       "      <th>1</th>\n",
       "      <td>4.9</td>\n",
       "      <td>3.0</td>\n",
       "      <td>1.4</td>\n",
       "      <td>0.2</td>\n",
       "      <td>0</td>\n",
       "    </tr>\n",
       "    <tr>\n",
       "      <th>2</th>\n",
       "      <td>4.7</td>\n",
       "      <td>3.2</td>\n",
       "      <td>1.3</td>\n",
       "      <td>0.2</td>\n",
       "      <td>0</td>\n",
       "    </tr>\n",
       "    <tr>\n",
       "      <th>3</th>\n",
       "      <td>4.6</td>\n",
       "      <td>3.1</td>\n",
       "      <td>1.5</td>\n",
       "      <td>0.2</td>\n",
       "      <td>0</td>\n",
       "    </tr>\n",
       "    <tr>\n",
       "      <th>4</th>\n",
       "      <td>5.0</td>\n",
       "      <td>3.6</td>\n",
       "      <td>1.4</td>\n",
       "      <td>0.2</td>\n",
       "      <td>0</td>\n",
       "    </tr>\n",
       "  </tbody>\n",
       "</table>\n",
       "</div>"
      ],
      "text/plain": [
       "   sepal_length(cm)  sepal_width(cm)  petal_length(cm)  petal_width(cm)  \\\n",
       "0               5.1              3.5               1.4              0.2   \n",
       "1               4.9              3.0               1.4              0.2   \n",
       "2               4.7              3.2               1.3              0.2   \n",
       "3               4.6              3.1               1.5              0.2   \n",
       "4               5.0              3.6               1.4              0.2   \n",
       "\n",
       "   species_id  \n",
       "0           0  \n",
       "1           0  \n",
       "2           0  \n",
       "3           0  \n",
       "4           0  "
      ]
     },
     "execution_count": 9,
     "metadata": {},
     "output_type": "execute_result"
    }
   ],
   "source": [
    "df.head()"
   ]
  },
  {
   "cell_type": "code",
   "execution_count": 10,
   "metadata": {},
   "outputs": [],
   "source": [
    "species_map = {0: 'setosa', 1: 'versicolor', 2: 'virginica'}"
   ]
  },
  {
   "cell_type": "code",
   "execution_count": 11,
   "metadata": {},
   "outputs": [],
   "source": [
    "df['species_name'] = df['species_id'].map(species_map)"
   ]
  },
  {
   "cell_type": "code",
   "execution_count": 14,
   "metadata": {},
   "outputs": [
    {
     "data": {
      "text/html": [
       "<div>\n",
       "<style scoped>\n",
       "    .dataframe tbody tr th:only-of-type {\n",
       "        vertical-align: middle;\n",
       "    }\n",
       "\n",
       "    .dataframe tbody tr th {\n",
       "        vertical-align: top;\n",
       "    }\n",
       "\n",
       "    .dataframe thead th {\n",
       "        text-align: right;\n",
       "    }\n",
       "</style>\n",
       "<table border=\"1\" class=\"dataframe\">\n",
       "  <thead>\n",
       "    <tr style=\"text-align: right;\">\n",
       "      <th></th>\n",
       "      <th>sepal_length(cm)</th>\n",
       "      <th>sepal_width(cm)</th>\n",
       "      <th>petal_length(cm)</th>\n",
       "      <th>petal_width(cm)</th>\n",
       "      <th>species_id</th>\n",
       "      <th>species_name</th>\n",
       "    </tr>\n",
       "  </thead>\n",
       "  <tbody>\n",
       "    <tr>\n",
       "      <th>0</th>\n",
       "      <td>5.1</td>\n",
       "      <td>3.5</td>\n",
       "      <td>1.4</td>\n",
       "      <td>0.2</td>\n",
       "      <td>0</td>\n",
       "      <td>setosa</td>\n",
       "    </tr>\n",
       "    <tr>\n",
       "      <th>1</th>\n",
       "      <td>4.9</td>\n",
       "      <td>3.0</td>\n",
       "      <td>1.4</td>\n",
       "      <td>0.2</td>\n",
       "      <td>0</td>\n",
       "      <td>setosa</td>\n",
       "    </tr>\n",
       "    <tr>\n",
       "      <th>2</th>\n",
       "      <td>4.7</td>\n",
       "      <td>3.2</td>\n",
       "      <td>1.3</td>\n",
       "      <td>0.2</td>\n",
       "      <td>0</td>\n",
       "      <td>setosa</td>\n",
       "    </tr>\n",
       "    <tr>\n",
       "      <th>3</th>\n",
       "      <td>4.6</td>\n",
       "      <td>3.1</td>\n",
       "      <td>1.5</td>\n",
       "      <td>0.2</td>\n",
       "      <td>0</td>\n",
       "      <td>setosa</td>\n",
       "    </tr>\n",
       "    <tr>\n",
       "      <th>4</th>\n",
       "      <td>5.0</td>\n",
       "      <td>3.6</td>\n",
       "      <td>1.4</td>\n",
       "      <td>0.2</td>\n",
       "      <td>0</td>\n",
       "      <td>setosa</td>\n",
       "    </tr>\n",
       "  </tbody>\n",
       "</table>\n",
       "</div>"
      ],
      "text/plain": [
       "   sepal_length(cm)  sepal_width(cm)  petal_length(cm)  petal_width(cm)  \\\n",
       "0               5.1              3.5               1.4              0.2   \n",
       "1               4.9              3.0               1.4              0.2   \n",
       "2               4.7              3.2               1.3              0.2   \n",
       "3               4.6              3.1               1.5              0.2   \n",
       "4               5.0              3.6               1.4              0.2   \n",
       "\n",
       "   species_id species_name  \n",
       "0           0       setosa  \n",
       "1           0       setosa  \n",
       "2           0       setosa  \n",
       "3           0       setosa  \n",
       "4           0       setosa  "
      ]
     },
     "execution_count": 14,
     "metadata": {},
     "output_type": "execute_result"
    }
   ],
   "source": [
    "df.head()"
   ]
  },
  {
   "cell_type": "code",
   "execution_count": 15,
   "metadata": {},
   "outputs": [],
   "source": [
    "perm = np.random.permutation(len(x))"
   ]
  },
  {
   "cell_type": "code",
   "execution_count": 16,
   "metadata": {},
   "outputs": [],
   "source": [
    "df = df.loc[perm]"
   ]
  },
  {
   "cell_type": "code",
   "execution_count": 18,
   "metadata": {},
   "outputs": [
    {
     "data": {
      "text/html": [
       "<div>\n",
       "<style scoped>\n",
       "    .dataframe tbody tr th:only-of-type {\n",
       "        vertical-align: middle;\n",
       "    }\n",
       "\n",
       "    .dataframe tbody tr th {\n",
       "        vertical-align: top;\n",
       "    }\n",
       "\n",
       "    .dataframe thead th {\n",
       "        text-align: right;\n",
       "    }\n",
       "</style>\n",
       "<table border=\"1\" class=\"dataframe\">\n",
       "  <thead>\n",
       "    <tr style=\"text-align: right;\">\n",
       "      <th></th>\n",
       "      <th>sepal_length(cm)</th>\n",
       "      <th>sepal_width(cm)</th>\n",
       "      <th>petal_length(cm)</th>\n",
       "      <th>petal_width(cm)</th>\n",
       "      <th>species_id</th>\n",
       "      <th>species_name</th>\n",
       "    </tr>\n",
       "  </thead>\n",
       "  <tbody>\n",
       "    <tr>\n",
       "      <th>28</th>\n",
       "      <td>5.2</td>\n",
       "      <td>3.4</td>\n",
       "      <td>1.4</td>\n",
       "      <td>0.2</td>\n",
       "      <td>0</td>\n",
       "      <td>setosa</td>\n",
       "    </tr>\n",
       "    <tr>\n",
       "      <th>60</th>\n",
       "      <td>5.0</td>\n",
       "      <td>2.0</td>\n",
       "      <td>3.5</td>\n",
       "      <td>1.0</td>\n",
       "      <td>1</td>\n",
       "      <td>versicolor</td>\n",
       "    </tr>\n",
       "    <tr>\n",
       "      <th>75</th>\n",
       "      <td>6.6</td>\n",
       "      <td>3.0</td>\n",
       "      <td>4.4</td>\n",
       "      <td>1.4</td>\n",
       "      <td>1</td>\n",
       "      <td>versicolor</td>\n",
       "    </tr>\n",
       "    <tr>\n",
       "      <th>37</th>\n",
       "      <td>4.9</td>\n",
       "      <td>3.6</td>\n",
       "      <td>1.4</td>\n",
       "      <td>0.1</td>\n",
       "      <td>0</td>\n",
       "      <td>setosa</td>\n",
       "    </tr>\n",
       "    <tr>\n",
       "      <th>17</th>\n",
       "      <td>5.1</td>\n",
       "      <td>3.5</td>\n",
       "      <td>1.4</td>\n",
       "      <td>0.3</td>\n",
       "      <td>0</td>\n",
       "      <td>setosa</td>\n",
       "    </tr>\n",
       "  </tbody>\n",
       "</table>\n",
       "</div>"
      ],
      "text/plain": [
       "    sepal_length(cm)  sepal_width(cm)  petal_length(cm)  petal_width(cm)  \\\n",
       "28               5.2              3.4               1.4              0.2   \n",
       "60               5.0              2.0               3.5              1.0   \n",
       "75               6.6              3.0               4.4              1.4   \n",
       "37               4.9              3.6               1.4              0.1   \n",
       "17               5.1              3.5               1.4              0.3   \n",
       "\n",
       "    species_id species_name  \n",
       "28           0       setosa  \n",
       "60           1   versicolor  \n",
       "75           1   versicolor  \n",
       "37           0       setosa  \n",
       "17           0       setosa  "
      ]
     },
     "execution_count": 18,
     "metadata": {},
     "output_type": "execute_result"
    }
   ],
   "source": [
    "df.head()"
   ]
  },
  {
   "cell_type": "code",
   "execution_count": 19,
   "metadata": {},
   "outputs": [
    {
     "data": {
      "text/html": [
       "<div>\n",
       "<style scoped>\n",
       "    .dataframe tbody tr th:only-of-type {\n",
       "        vertical-align: middle;\n",
       "    }\n",
       "\n",
       "    .dataframe tbody tr th {\n",
       "        vertical-align: top;\n",
       "    }\n",
       "\n",
       "    .dataframe thead th {\n",
       "        text-align: right;\n",
       "    }\n",
       "</style>\n",
       "<table border=\"1\" class=\"dataframe\">\n",
       "  <thead>\n",
       "    <tr style=\"text-align: right;\">\n",
       "      <th></th>\n",
       "      <th>sepal_length(cm)</th>\n",
       "      <th>sepal_width(cm)</th>\n",
       "      <th>petal_length(cm)</th>\n",
       "      <th>petal_width(cm)</th>\n",
       "      <th>species_id</th>\n",
       "    </tr>\n",
       "  </thead>\n",
       "  <tbody>\n",
       "    <tr>\n",
       "      <th>count</th>\n",
       "      <td>50.00000</td>\n",
       "      <td>50.000000</td>\n",
       "      <td>50.000000</td>\n",
       "      <td>50.000000</td>\n",
       "      <td>50.0</td>\n",
       "    </tr>\n",
       "    <tr>\n",
       "      <th>mean</th>\n",
       "      <td>5.00600</td>\n",
       "      <td>3.428000</td>\n",
       "      <td>1.462000</td>\n",
       "      <td>0.246000</td>\n",
       "      <td>0.0</td>\n",
       "    </tr>\n",
       "    <tr>\n",
       "      <th>std</th>\n",
       "      <td>0.35249</td>\n",
       "      <td>0.379064</td>\n",
       "      <td>0.173664</td>\n",
       "      <td>0.105386</td>\n",
       "      <td>0.0</td>\n",
       "    </tr>\n",
       "    <tr>\n",
       "      <th>min</th>\n",
       "      <td>4.30000</td>\n",
       "      <td>2.300000</td>\n",
       "      <td>1.000000</td>\n",
       "      <td>0.100000</td>\n",
       "      <td>0.0</td>\n",
       "    </tr>\n",
       "    <tr>\n",
       "      <th>25%</th>\n",
       "      <td>4.80000</td>\n",
       "      <td>3.200000</td>\n",
       "      <td>1.400000</td>\n",
       "      <td>0.200000</td>\n",
       "      <td>0.0</td>\n",
       "    </tr>\n",
       "    <tr>\n",
       "      <th>50%</th>\n",
       "      <td>5.00000</td>\n",
       "      <td>3.400000</td>\n",
       "      <td>1.500000</td>\n",
       "      <td>0.200000</td>\n",
       "      <td>0.0</td>\n",
       "    </tr>\n",
       "    <tr>\n",
       "      <th>75%</th>\n",
       "      <td>5.20000</td>\n",
       "      <td>3.675000</td>\n",
       "      <td>1.575000</td>\n",
       "      <td>0.300000</td>\n",
       "      <td>0.0</td>\n",
       "    </tr>\n",
       "    <tr>\n",
       "      <th>max</th>\n",
       "      <td>5.80000</td>\n",
       "      <td>4.400000</td>\n",
       "      <td>1.900000</td>\n",
       "      <td>0.600000</td>\n",
       "      <td>0.0</td>\n",
       "    </tr>\n",
       "  </tbody>\n",
       "</table>\n",
       "</div>"
      ],
      "text/plain": [
       "       sepal_length(cm)  sepal_width(cm)  petal_length(cm)  petal_width(cm)  \\\n",
       "count          50.00000        50.000000         50.000000        50.000000   \n",
       "mean            5.00600         3.428000          1.462000         0.246000   \n",
       "std             0.35249         0.379064          0.173664         0.105386   \n",
       "min             4.30000         2.300000          1.000000         0.100000   \n",
       "25%             4.80000         3.200000          1.400000         0.200000   \n",
       "50%             5.00000         3.400000          1.500000         0.200000   \n",
       "75%             5.20000         3.675000          1.575000         0.300000   \n",
       "max             5.80000         4.400000          1.900000         0.600000   \n",
       "\n",
       "       species_id  \n",
       "count        50.0  \n",
       "mean          0.0  \n",
       "std           0.0  \n",
       "min           0.0  \n",
       "25%           0.0  \n",
       "50%           0.0  \n",
       "75%           0.0  \n",
       "max           0.0  "
      ]
     },
     "execution_count": 19,
     "metadata": {},
     "output_type": "execute_result"
    }
   ],
   "source": [
    "setosa_mask = df['species_name'] == 'setosa'\n",
    "df[setosa_mask].describe()"
   ]
  },
  {
   "cell_type": "code",
   "execution_count": 20,
   "metadata": {},
   "outputs": [
    {
     "data": {
      "image/png": "[encoded data removed]",
      "text/plain": [
       "<Figure size 432x288 with 1 Axes>"
      ]
     },
     "metadata": {
      "needs_background": "light"
     },
     "output_type": "display_data"
    }
   ],
   "source": [
    "plt.scatter(x[:,0],x[:,3], c=y, cmap = 'Dark2' )\n",
    "plt.xlabel('sepal length cm')\n",
    "plt.ylabel('petal width cm')\n",
    "plt.show()"
   ]
  },
  {
   "cell_type": "code",
   "execution_count": 21,
   "metadata": {},
   "outputs": [],
   "source": [
    "x = np.c_[x[:,0],x[:,3]]"
   ]
  },
  {
   "cell_type": "code",
   "execution_count": 23,
   "metadata": {},
   "outputs": [],
   "source": [
    "y=[]\n",
    "\n",
    "for i in range(len(x)):\n",
    "    if i < 50:\n",
    "        y.append(1)\n",
    "    else:\n",
    "        y.append(0)"
   ]
  },
  {
   "cell_type": "code",
   "execution_count": 24,
   "metadata": {},
   "outputs": [],
   "source": [
    "y = np.array(y)"
   ]
  },
  {
   "cell_type": "code",
   "execution_count": 25,
   "metadata": {},
   "outputs": [
    {
     "data": {
      "text/plain": [
       "<matplotlib.collections.PathCollection at 0x2101e8e9f28>"
      ]
     },
     "execution_count": 25,
     "metadata": {},
     "output_type": "execute_result"
    },
    {
     "data": {
      "image/png": "[encoded data removed]",
      "text/plain": [
       "<Figure size 432x288 with 1 Axes>"
      ]
     },
     "metadata": {
      "needs_background": "light"
     },
     "output_type": "display_data"
    }
   ],
   "source": [
    "plt.scatter(x[:,0],x[:,1],c=y)"
   ]
  },
  {
   "cell_type": "code",
   "execution_count": 29,
   "metadata": {},
   "outputs": [],
   "source": [
    "x_train, x_test = x[perm][20:],x[perm][:20]\n",
    "y_train, y_test = y[perm][20:],y[perm][:20]"
   ]
  },
  {
   "cell_type": "code",
   "execution_count": 30,
   "metadata": {},
   "outputs": [
    {
     "data": {
      "text/plain": [
       "((130, 2), (130,), (20, 2), (20,))"
      ]
     },
     "execution_count": 30,
     "metadata": {},
     "output_type": "execute_result"
    }
   ],
   "source": [
    "x_train.shape,y_train.shape,x_test.shape,y_test.shape"
   ]
  },
  {
   "cell_type": "code",
   "execution_count": 31,
   "metadata": {},
   "outputs": [],
   "source": [
    "from sklearn.linear_model import LogisticRegression"
   ]
  },
  {
   "cell_type": "code",
   "execution_count": 32,
   "metadata": {},
   "outputs": [],
   "source": [
    "log_reg = LogisticRegression()"
   ]
  },
  {
   "cell_type": "code",
   "execution_count": 47,
   "metadata": {},
   "outputs": [
    {
     "name": "stderr",
     "output_type": "stream",
     "text": [
      "C:\\Users\\giridhar\\Anaconda3\\lib\\site-packages\\sklearn\\linear_model\\logistic.py:433: FutureWarning: Default solver will be changed to 'lbfgs' in 0.22. Specify a solver to silence this warning.\n",
      "  FutureWarning)\n"
     ]
    },
    {
     "data": {
      "text/plain": [
       "LogisticRegression(C=1.0, class_weight=None, dual=False, fit_intercept=True,\n",
       "          intercept_scaling=1, max_iter=100, multi_class='warn',\n",
       "          n_jobs=None, penalty='l2', random_state=None, solver='warn',\n",
       "          tol=0.0001, verbose=0, warm_start=False)"
      ]
     },
     "execution_count": 47,
     "metadata": {},
     "output_type": "execute_result"
    }
   ],
   "source": [
    "log_reg.fit(x_train,y_train)"
   ]
  },
  {
   "cell_type": "code",
   "execution_count": 34,
   "metadata": {},
   "outputs": [
    {
     "data": {
      "text/plain": [
       "(array([[ 0.44437065, -4.60506641]]), array([0.96483113]))"
      ]
     },
     "execution_count": 34,
     "metadata": {},
     "output_type": "execute_result"
    }
   ],
   "source": [
    "w,b = log_reg.coef_,log_reg.intercept_\n",
    "w,b"
   ]
  },
  {
   "cell_type": "code",
   "execution_count": 48,
   "metadata": {},
   "outputs": [],
   "source": [
    "prob = log_reg.predict_proba(x_train)"
   ]
  },
  {
   "cell_type": "code",
   "execution_count": 49,
   "metadata": {},
   "outputs": [
    {
     "data": {
      "text/plain": [
       "array([[9.59848714e-01, 4.01512864e-02],\n",
       "       [9.94150115e-01, 5.84988516e-03],\n",
       "       [1.27263298e-01, 8.72736702e-01],\n",
       "       [9.03216171e-01, 9.67838290e-02],\n",
       "       [9.89089179e-01, 1.09108214e-02],\n",
       "       [8.99750614e-01, 1.00249386e-01],\n",
       "       [9.99370521e-01, 6.29479057e-04],\n",
       "       [9.77324478e-01, 2.26755225e-02],\n",
       "       [8.58169839e-01, 1.41830161e-01],\n",
       "       [9.98566820e-01, 1.43318046e-03],\n",
       "       [8.80514799e-01, 1.19485201e-01],\n",
       "       [9.18982992e-01, 8.10170075e-02],\n",
       "       [8.66965502e-02, 9.13303450e-01],\n",
       "       [7.23058826e-02, 9.27694117e-01],\n",
       "       [8.76347654e-01, 1.23652346e-01],\n",
       "       [1.14817323e-01, 8.85182677e-01],\n",
       "       [8.63092103e-01, 1.36907897e-01],\n",
       "       [1.31661149e-01, 8.68338851e-01],\n",
       "       [1.10910240e-01, 8.89089760e-01],\n",
       "       [9.97617168e-01, 2.38283156e-03],\n",
       "       [9.99264252e-01, 7.35747845e-04],\n",
       "       [9.96048699e-01, 3.95130148e-03],\n",
       "       [9.89940346e-01, 1.00596539e-02],\n",
       "       [1.18843645e-01, 8.81156355e-01],\n",
       "       [1.10910240e-01, 8.89089760e-01],\n",
       "       [9.94150115e-01, 5.84988516e-03],\n",
       "       [1.22991541e-01, 8.77008459e-01],\n",
       "       [9.82008498e-01, 1.79915015e-02],\n",
       "       [9.55085719e-01, 4.49142809e-02],\n",
       "       [2.28132136e-01, 7.71867864e-01],\n",
       "       [9.90688616e-01, 9.31138401e-03],\n",
       "       [9.87294635e-01, 1.27053652e-02],\n",
       "       [8.35015366e-02, 9.16498463e-01],\n",
       "       [9.94161827e-01, 5.83817272e-03],\n",
       "       [1.14817323e-01, 8.85182677e-01],\n",
       "       [1.07120021e-01, 8.92879979e-01],\n",
       "       [9.98117458e-01, 1.88254219e-03],\n",
       "       [9.88659887e-01, 1.13401131e-02],\n",
       "       [9.59848714e-01, 4.01512864e-02],\n",
       "       [9.56730370e-01, 4.32696304e-02],\n",
       "       [1.14817323e-01, 8.85182677e-01],\n",
       "       [2.08174515e-01, 7.91825485e-01],\n",
       "       [9.73542853e-01, 2.64571473e-02],\n",
       "       [1.89534118e-01, 8.10465882e-01],\n",
       "       [2.35076819e-01, 7.64923181e-01],\n",
       "       [9.98189379e-01, 1.81062093e-03],\n",
       "       [9.87750603e-01, 1.22493974e-02],\n",
       "       [9.93154869e-01, 6.84513101e-03],\n",
       "       [9.95191781e-01, 4.80821927e-03],\n",
       "       [1.31661149e-01, 8.68338851e-01],\n",
       "       [9.24607333e-01, 7.53926673e-02],\n",
       "       [9.67962090e-01, 3.20379102e-02],\n",
       "       [8.38088053e-01, 1.61911947e-01],\n",
       "       [9.81305879e-01, 1.86941205e-02],\n",
       "       [9.99202970e-01, 7.97030297e-04],\n",
       "       [9.98258557e-01, 1.74144258e-03],\n",
       "       [9.06574366e-01, 9.34256344e-02],\n",
       "       [4.21340126e-01, 5.78659874e-01],\n",
       "       [9.21841452e-01, 7.81585480e-02],\n",
       "       [9.47893086e-01, 5.21069139e-02],\n",
       "       [9.54999161e-01, 4.50008387e-02],\n",
       "       [9.51616105e-01, 4.83838955e-02],\n",
       "       [9.98805161e-02, 9.00119484e-01],\n",
       "       [9.96994191e-02, 9.00300581e-01],\n",
       "       [9.61326017e-01, 3.86739827e-02],\n",
       "       [8.03434940e-01, 1.96565060e-01],\n",
       "       [9.95720731e-01, 4.27926923e-03],\n",
       "       [9.21841452e-01, 7.81585480e-02],\n",
       "       [9.88637263e-01, 1.13627373e-02],\n",
       "       [9.96336937e-01, 3.66306306e-03],\n",
       "       [1.31661149e-01, 8.68338851e-01],\n",
       "       [9.87269322e-01, 1.27306781e-02],\n",
       "       [9.18982992e-01, 8.10170075e-02],\n",
       "       [1.40843731e-01, 8.59156269e-01],\n",
       "       [1.77539585e-01, 8.22460415e-01],\n",
       "       [8.05631021e-02, 9.19436898e-01],\n",
       "       [7.70789801e-01, 2.29210199e-01],\n",
       "       [1.66427991e-01, 8.33572009e-01],\n",
       "       [9.95712132e-01, 4.28786771e-03],\n",
       "       [9.53381602e-01, 4.66183975e-02],\n",
       "       [9.70354168e-01, 2.96458318e-02],\n",
       "       [8.09525207e-01, 1.90474793e-01],\n",
       "       [9.24607333e-01, 7.53926673e-02],\n",
       "       [1.40843731e-01, 8.59156269e-01],\n",
       "       [2.28132136e-01, 7.71867864e-01],\n",
       "       [1.03444257e-01, 8.96555743e-01],\n",
       "       [9.91364470e-01, 8.63552974e-03],\n",
       "       [9.89089179e-01, 1.09108214e-02],\n",
       "       [1.40843731e-01, 8.59156269e-01],\n",
       "       [9.85150482e-01, 1.48495183e-02],\n",
       "       [9.88213906e-01, 1.17860942e-02],\n",
       "       [1.14817323e-01, 8.85182677e-01],\n",
       "       [9.99105866e-01, 8.94133833e-04],\n",
       "       [9.95551187e-01, 4.44881279e-03],\n",
       "       [9.93154869e-01, 6.84513101e-03],\n",
       "       [9.98117458e-01, 1.88254219e-03],\n",
       "       [9.87269322e-01, 1.27306781e-02],\n",
       "       [9.97429409e-01, 2.57059128e-03],\n",
       "       [7.56709939e-01, 2.43290061e-01],\n",
       "       [1.89224639e-01, 8.10775361e-01],\n",
       "       [9.98867950e-01, 1.13204962e-03],\n",
       "       [8.76347654e-01, 1.23652346e-01],\n",
       "       [9.43900479e-01, 5.60995208e-02],\n",
       "       [8.88685193e-01, 1.11314807e-01],\n",
       "       [9.64263441e-02, 9.03573656e-01],\n",
       "       [1.18843645e-01, 8.81156355e-01],\n",
       "       [7.49453606e-01, 2.50546394e-01],\n",
       "       [9.65451189e-01, 3.45488107e-02],\n",
       "       [9.86769385e-01, 1.32306151e-02],\n",
       "       [1.31891797e-01, 8.68108203e-01],\n",
       "       [9.95883840e-01, 4.11616023e-03],\n",
       "       [7.34514537e-01, 2.65485463e-01],\n",
       "       [9.37250595e-01, 6.27494048e-02],\n",
       "       [8.96175230e-01, 1.03824770e-01],\n",
       "       [2.08174515e-01, 7.91825485e-01],\n",
       "       [9.37250595e-01, 6.27494048e-02],\n",
       "       [9.19132960e-01, 8.08670399e-02],\n",
       "       [9.18982992e-01, 8.10170075e-02],\n",
       "       [1.22991541e-01, 8.77008459e-01],\n",
       "       [9.97429409e-01, 2.57059128e-03],\n",
       "       [8.88485611e-01, 1.11514389e-01],\n",
       "       [1.22991541e-01, 8.77008459e-01],\n",
       "       [9.98450658e-01, 1.54934203e-03],\n",
       "       [1.95284576e-01, 8.04715424e-01],\n",
       "       [9.99031404e-01, 9.68595899e-04],\n",
       "       [9.58397879e-01, 4.16021214e-02],\n",
       "       [9.21986578e-01, 7.80134223e-02],\n",
       "       [9.86250089e-01, 1.37499114e-02],\n",
       "       [9.73542853e-01, 2.64571473e-02],\n",
       "       [9.13138594e-01, 8.68614057e-02]])"
      ]
     },
     "execution_count": 49,
     "metadata": {},
     "output_type": "execute_result"
    }
   ],
   "source": [
    "prob"
   ]
  },
  {
   "cell_type": "code",
   "execution_count": 46,
   "metadata": {},
   "outputs": [
    {
     "data": {
      "image/png": "[encoded data removed]",
      "text/plain": [
       "<Figure size 432x288 with 1 Axes>"
      ]
     },
     "metadata": {
      "needs_background": "light"
     },
     "output_type": "display_data"
    }
   ],
   "source": [
    "plt.scatter(x_train[:,0],x_train[:,1],c=y_train)\n",
    "ax = plt.gca()\n",
    "ax.autoscale = False\n",
    "xvals = np.array(ax.get_xlim())\n",
    "yvals = -(xvals*w[0][0]+b)/w[0][1]\n",
    "plt.plot(xvals,yvals)\n",
    "plt.show()"
   ]
  },
  {
   "cell_type": "code",
   "execution_count": 42,
   "metadata": {},
   "outputs": [],
   "source": [
    "predictions = log_reg.predict(x_test)"
   ]
  },
  {
   "cell_type": "code",
   "execution_count": 43,
   "metadata": {},
   "outputs": [
    {
     "data": {
      "text/plain": [
       "array([1, 0, 0, 1, 1, 0, 1, 1, 0, 1, 1, 0, 1, 1, 0, 1, 0, 1, 0, 0])"
      ]
     },
     "execution_count": 43,
     "metadata": {},
     "output_type": "execute_result"
    }
   ],
   "source": [
    "predictions"
   ]
  },
  {
   "cell_type": "code",
   "execution_count": 44,
   "metadata": {},
   "outputs": [
    {
     "data": {
      "text/plain": [
       "array([1, 0, 0, 1, 1, 0, 1, 1, 0, 1, 1, 0, 1, 1, 0, 1, 0, 1, 0, 0])"
      ]
     },
     "execution_count": 44,
     "metadata": {},
     "output_type": "execute_result"
    }
   ],
   "source": [
    "y_test"
   ]
  },
  {
   "cell_type": "code",
   "execution_count": 45,
   "metadata": {},
   "outputs": [
    {
     "data": {
      "image/png": "[encoded data removed]",
      "text/plain": [
       "<Figure size 432x288 with 1 Axes>"
      ]
     },
     "metadata": {
      "needs_background": "light"
     },
     "output_type": "display_data"
    }
   ],
   "source": [
    "plt.scatter(x_test[:,0],x_test[:,1],c=y_test)\n",
    "ax = plt.gca()\n",
    "ax.autoscale = False\n",
    "xvals = np.array(ax.get_xlim())\n",
    "yvals = -(xvals*w[0][0]+b)/w[0][1]\n",
    "plt.plot(xvals,yvals)\n",
    "plt.show()"
   ]
  },
  {
   "cell_type": "code",
   "execution_count": null,
   "metadata": {},
   "outputs": [],
   "source": []
  }
 ],
 "metadata": {
  "kernelspec": {
   "display_name": "Python 3",
   "language": "python",
   "name": "python3"
  },
  "language_info": {
   "codemirror_mode": {
    "name": "ipython",
    "version": 3
   },
   "file_extension": ".py",
   "mimetype": "text/x-python",
   "name": "python",
   "nbconvert_exporter": "python",
   "pygments_lexer": "ipython3",
   "version": "3.7.3"
  }
 },
 "nbformat": 4,
 "nbformat_minor": 2
}
